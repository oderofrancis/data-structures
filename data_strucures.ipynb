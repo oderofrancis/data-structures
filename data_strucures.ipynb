{
 "cells": [
  {
   "cell_type": "code",
   "execution_count": null,
   "metadata": {},
   "outputs": [],
   "source": []
  },
  {
   "cell_type": "code",
   "execution_count": 1,
   "metadata": {},
   "outputs": [
    {
     "name": "stdout",
     "output_type": "stream",
     "text": [
      "[]\n",
      "[1, 2, 3, 'code', 3.132, 'pi']\n"
     ]
    }
   ],
   "source": [
    "list = [] #create empty list\n",
    "print(list)\n",
    "my_list = [1, 2, 3, 'code', 3.132,'pi'] #creating list with data\n",
    "print(my_list)"
   ]
  },
  {
   "cell_type": "code",
   "execution_count": 2,
   "metadata": {},
   "outputs": [
    {
     "name": "stdout",
     "output_type": "stream",
     "text": [
      "[1, 2, 3]\n",
      "[1, 2, 3, [23, 12]]\n",
      "[1, 2, 3, [23, 12], 234, 'more coding']\n"
     ]
    }
   ],
   "source": [
    "my_list = [1, 2, 3]\n",
    "print(my_list)\n",
    "my_list.append([23, 12]) #add as a single element\n",
    "print(my_list)\n",
    "my_list.extend([234, 'more coding']) #add as different elements\n",
    "print(my_list)"
   ]
  },
  {
   "cell_type": "code",
   "execution_count": 3,
   "metadata": {},
   "outputs": [
    {
     "name": "stdout",
     "output_type": "stream",
     "text": [
      "[1, 2, 3]\n",
      "[1, 2, 3, [23, 12]]\n",
      "[1, 2, 3, [23, 12], 234, 'more coding']\n",
      "[1, 'insert coding', 2, 3, [23, 12], 234, 'more coding']\n"
     ]
    }
   ],
   "source": [
    "my_list = [1, 2, 3]\n",
    "print(my_list)\n",
    "my_list.append([23, 12]) #add as a single element\n",
    "print(my_list)\n",
    "my_list.extend([234, 'more coding']) #add as different elements\n",
    "print(my_list)\n",
    "my_list.insert(1, 'insert coding') #add element i\n",
    "print(my_list)"
   ]
  },
  {
   "cell_type": "code",
   "execution_count": 4,
   "metadata": {},
   "outputs": [
    {
     "name": "stdout",
     "output_type": "stream",
     "text": [
      "1\n",
      "2\n",
      "3\n",
      "code\n",
      "3.132\n",
      "pi\n",
      "30\n",
      "[1, 2, 3, 'code', 3.132, 'pi', 30]\n",
      "code\n",
      "[1, 2]\n",
      "[30, 'pi', 3.132, 'code', 3, 2, 1]\n"
     ]
    }
   ],
   "source": [
    "my_list = [1, 2, 3, 'code', 3.132,'pi', 30]\n",
    "\n",
    "for element in my_list: #access elements one by one\n",
    "    print(element)\n",
    "    \n",
    "print(my_list) #access all elements\n",
    "print(my_list[3]) #access index 3 element\n",
    "print(my_list[0:2]) #access elements from 0 to 1 and exclude 2\n",
    "print(my_list[::-1]) #access elements in reverse"
   ]
  },
  {
   "cell_type": "code",
   "execution_count": 5,
   "metadata": {},
   "outputs": [
    {
     "name": "stdout",
     "output_type": "stream",
     "text": [
      "6\n",
      "3\n",
      "1\n",
      "[1, 2, 3, 10, 20, 23]\n",
      "[23, 20, 10, 3, 2, 1]\n"
     ]
    }
   ],
   "source": [
    "my_list = [1, 2, 3, 10, 20, 23]\n",
    "\n",
    "print(len(my_list)) #find length of list\n",
    "print(my_list.index(10)) #find index of element that occurs first\n",
    "print(my_list.count(10)) #find count of the element\n",
    "print(sorted(my_list)) #print sorted list but not change original\n",
    "my_list.sort(reverse=True) #sort original list\n",
    "print(my_list)"
   ]
  },
  {
   "cell_type": "code",
   "execution_count": 6,
   "metadata": {},
   "outputs": [
    {
     "name": "stdout",
     "output_type": "stream",
     "text": [
      "{}\n",
      "{1: 'Python', 2: 'coding', 3: 'data', 4: 'structures'}\n"
     ]
    }
   ],
   "source": [
    "my_dict = {} #empty dictionary\n",
    "print(my_dict)\n",
    "my_dict = {\n",
    "    1: 'Python', \n",
    "    2: 'coding',\n",
    "    3: 'data',\n",
    "    4: 'structures'\n",
    "    } #dictionary with elements\n",
    "print(my_dict)"
   ]
  },
  {
   "cell_type": "code",
   "execution_count": 7,
   "metadata": {},
   "outputs": [
    {
     "name": "stdout",
     "output_type": "stream",
     "text": [
      "Value: data\n",
      "Dictionary: {'First': 'Python', 'Second': 'coding', 'Fourth': 'structures'}\n",
      "Key, value pair: ('Fourth', 'structures')\n",
      "Dictionary {'First': 'Python', 'Second': 'coding'}\n",
      "n {}\n"
     ]
    }
   ],
   "source": [
    "my_dict = {'First': 'Python', 'Second': 'coding', 'Third': 'data','Fourth':'structures'}\n",
    "a = my_dict.pop('Third') #pop element\n",
    "print('Value:', a)\n",
    "print('Dictionary:', my_dict)\n",
    "b = my_dict.popitem() #pop the key-value pair\n",
    "print('Key, value pair:', b)\n",
    "print('Dictionary', my_dict)\n",
    "my_dict.clear() #empty dictionary\n",
    "print('n', my_dict)"
   ]
  },
  {
   "cell_type": "code",
   "execution_count": 9,
   "metadata": {},
   "outputs": [
    {
     "name": "stdout",
     "output_type": "stream",
     "text": [
      "Python\n",
      "coding\n"
     ]
    }
   ],
   "source": [
    "my_dict = {\n",
    "    'First': 'Python', \n",
    "    'Second': 'coding', \n",
    "    'Third': 'data',\n",
    "    'Fourth':'structures'}\n",
    "print(my_dict['First']) #access elements using keys\n",
    "print(my_dict.get('Second'))"
   ]
  },
  {
   "cell_type": "code",
   "execution_count": null,
   "metadata": {},
   "outputs": [],
   "source": [
    "my_dict = {\n",
    "    'First': 'Python', \n",
    "    'Second': 'coding', \n",
    "    'Third': 'data',\n",
    "    'Fourth':'structures'}\n",
    "print(my_dict.keys()) #get keys\n",
    "print(my_dict.values()) #get values\n",
    "print(my_dict.items()) #get key-value pairs\n",
    "print(my_dict.get('First'))"
   ]
  },
  {
   "cell_type": "code",
   "execution_count": 11,
   "metadata": {},
   "outputs": [
    {
     "name": "stdout",
     "output_type": "stream",
     "text": [
      "(1, 2, 3)\n"
     ]
    }
   ],
   "source": [
    "my_tuple = (1, 2, 3) #create tuple\n",
    "print(my_tuple) "
   ]
  },
  {
   "cell_type": "code",
   "execution_count": 12,
   "metadata": {},
   "outputs": [
    {
     "name": "stdout",
     "output_type": "stream",
     "text": [
      "1\n",
      "2\n",
      "3\n",
      "coding\n",
      "data_structures\n",
      "(1, 2, 3, 'coding', 'data_structures')\n",
      "1\n",
      "(1, 2, 3, 'coding', 'data_structures')\n",
      "n\n"
     ]
    }
   ],
   "source": [
    "my_tuple2 = (1, 2, 3,'coding', 'data_structures') #access elements\n",
    "\n",
    "for x in my_tuple2:\n",
    "    print(x)\n",
    "\n",
    "print(my_tuple2)\n",
    "print(my_tuple2[0])\n",
    "print(my_tuple2[:])\n",
    "print(my_tuple2[3][4])"
   ]
  },
  {
   "cell_type": "code",
   "execution_count": 13,
   "metadata": {},
   "outputs": [
    {
     "name": "stdout",
     "output_type": "stream",
     "text": [
      "(1, 2, 3, 4, 5, 6)\n"
     ]
    }
   ],
   "source": [
    "my_tuple = (1, 2, 3)\n",
    "my_tuple = my_tuple + (4, 5, 6) #add elements\n",
    "print(my_tuple)"
   ]
  },
  {
   "cell_type": "code",
   "execution_count": 14,
   "metadata": {},
   "outputs": [
    {
     "name": "stdout",
     "output_type": "stream",
     "text": [
      "(1, 2, 3, ['data', 'python'])\n",
      "1\n",
      "3\n"
     ]
    }
   ],
   "source": [
    "my_tuple = (1, 2, 3, ['coding', 'python'])\n",
    "my_tuple[3][0] = 'data'\n",
    "print(my_tuple)\n",
    "print(my_tuple.count(2))\n",
    "print(my_tuple.index(['data', 'python']))"
   ]
  },
  {
   "cell_type": "code",
   "execution_count": 15,
   "metadata": {},
   "outputs": [
    {
     "name": "stdout",
     "output_type": "stream",
     "text": [
      "{1, 2, 3, 4, 5}\n"
     ]
    }
   ],
   "source": [
    "my_set = {1, 2, 3, 4, 5, 5, 5} #create set\n",
    "\n",
    "print(my_set)"
   ]
  },
  {
   "cell_type": "code",
   "execution_count": 16,
   "metadata": {},
   "outputs": [
    {
     "name": "stdout",
     "output_type": "stream",
     "text": [
      "{1, 2, 3, 4}\n"
     ]
    }
   ],
   "source": [
    "my_set = {1, 2, 3}\n",
    "my_set.add(4) #add element to set\n",
    "print(my_set)"
   ]
  },
  {
   "cell_type": "code",
   "execution_count": 18,
   "metadata": {},
   "outputs": [
    {
     "name": "stdout",
     "output_type": "stream",
     "text": [
      "{'structure', 'coding'}\n"
     ]
    }
   ],
   "source": [
    "my_set = {\"data\", \"coding\", \"structure\"}\n",
    "\n",
    "my_set.remove(\"data\")\n",
    "\n",
    "print(my_set)"
   ]
  },
  {
   "cell_type": "code",
   "execution_count": 20,
   "metadata": {},
   "outputs": [
    {
     "name": "stdout",
     "output_type": "stream",
     "text": [
      "Initial queue\n",
      "[1, 2, 3]\n",
      "\n",
      "Elements dequeued from queue\n",
      "1\n",
      "2\n",
      "3\n",
      "\n",
      "Queue after removing elements\n",
      "[]\n"
     ]
    }
   ],
   "source": [
    "# Initializing a queue\n",
    "queue = []\n",
    " \n",
    "# Adding elements to the queue\n",
    "queue.append(1)\n",
    "queue.append(2)\n",
    "queue.append(3)\n",
    " \n",
    "print(\"Initial queue\")\n",
    "print(queue)\n",
    " \n",
    "# Removing elements from the queue\n",
    "print(\"\\nElements dequeued from queue\")\n",
    "print(queue.pop(0))\n",
    "print(queue.pop(0))\n",
    "print(queue.pop(0))\n",
    " \n",
    "print(\"\\nQueue after removing elements\")\n",
    "print(queue)"
   ]
  },
  {
   "cell_type": "code",
   "execution_count": 22,
   "metadata": {},
   "outputs": [
    {
     "name": "stdout",
     "output_type": "stream",
     "text": [
      "Initial queue\n",
      "deque(['a', 'b', 'c'])\n",
      "\n",
      "Elements dequeued from the queue\n",
      "a\n",
      "b\n",
      "c\n",
      "\n",
      "Queue after removing elements\n",
      "deque([])\n"
     ]
    }
   ],
   "source": [
    "from collections import deque\n",
    " \n",
    "# Initializing a queue\n",
    "q = deque()\n",
    " \n",
    "# Adding elements to a queue\n",
    "q.append('a')\n",
    "q.append('b')\n",
    "q.append('c')\n",
    " \n",
    "print(\"Initial queue\")\n",
    "print(q)\n",
    " \n",
    "# Removing elements from a queue\n",
    "print(\"\\nElements dequeued from the queue\")\n",
    "print(q.popleft())\n",
    "print(q.popleft())\n",
    "print(q.popleft())\n",
    " \n",
    "print(\"\\nQueue after removing elements\")\n",
    "print(q)"
   ]
  },
  {
   "cell_type": "code",
   "execution_count": 23,
   "metadata": {},
   "outputs": [
    {
     "name": "stdout",
     "output_type": "stream",
     "text": [
      "0\n",
      "\n",
      "Full:  True\n",
      "\n",
      "Elements dequeued from the queue\n",
      "a\n",
      "b\n",
      "c\n",
      "\n",
      "Empty:  True\n",
      "\n",
      "Empty:  False\n",
      "Full:  False\n"
     ]
    }
   ],
   "source": [
    "from queue import Queue\n",
    " \n",
    "# Initializing a queue\n",
    "q = Queue(maxsize = 3)\n",
    " \n",
    "# qsize() give the maxsize\n",
    "# of the Queue\n",
    "print(q.qsize())\n",
    " \n",
    "# Adding of element to queue\n",
    "q.put('a')\n",
    "q.put('b')\n",
    "q.put('c')\n",
    " \n",
    "# Return Boolean for Full\n",
    "# Queue\n",
    "print(\"\\nFull: \", q.full())\n",
    " \n",
    "# Removing element from queue\n",
    "print(\"\\nElements dequeued from the queue\")\n",
    "print(q.get())\n",
    "print(q.get())\n",
    "print(q.get())\n",
    " \n",
    "# Return Boolean for Empty\n",
    "# Queue\n",
    "print(\"\\nEmpty: \", q.empty())\n",
    " \n",
    "q.put(1)\n",
    "print(\"\\nEmpty: \", q.empty())\n",
    "print(\"Full: \", q.full())"
   ]
  },
  {
   "cell_type": "code",
   "execution_count": 24,
   "metadata": {},
   "outputs": [
    {
     "name": "stdout",
     "output_type": "stream",
     "text": [
      "Initial stack\n",
      "['a', 'b', 'c']\n",
      "\n",
      "Elements popped from stack:\n",
      "c\n",
      "b\n",
      "a\n",
      "\n",
      "Stack after elements are popped:\n",
      "[]\n"
     ]
    }
   ],
   "source": [
    "stack = []\n",
    " \n",
    "# append() function to push\n",
    "# element in the stack\n",
    "stack.append('a')\n",
    "stack.append('b')\n",
    "stack.append('c')\n",
    " \n",
    "print('Initial stack')\n",
    "print(stack)\n",
    " \n",
    "# pop() function to pop\n",
    "# element from stack in\n",
    "# LIFO order\n",
    "print('\\nElements popped from stack:')\n",
    "print(stack.pop())\n",
    "print(stack.pop())\n",
    "print(stack.pop())\n",
    " \n",
    "print('\\nStack after elements are popped:')\n",
    "print(stack)\n",
    " "
   ]
  },
  {
   "cell_type": "code",
   "execution_count": 25,
   "metadata": {},
   "outputs": [
    {
     "name": "stdout",
     "output_type": "stream",
     "text": [
      "elements in the linked_list:\n",
      "deque(['first', 'second', 'third'])\n",
      "elements in the linked_list:\n",
      "deque(['first', 'fourth', 'second', 'third'])\n",
      "elements in the linked_list:\n",
      "deque(['first', 'fourth', 'second'])\n",
      "elements in the linked_list:\n",
      "deque(['first', 'second'])\n"
     ]
    }
   ],
   "source": [
    "# importing module\n",
    "import collections\n",
    " \n",
    "# initialising a deque() of arbitrary length\n",
    "linked_lst = collections.deque()\n",
    " \n",
    "# filling deque() with elements\n",
    "linked_lst.append('first')\n",
    "linked_lst.append('second')\n",
    "linked_lst.append('third')\n",
    " \n",
    "print(\"elements in the linked_list:\")\n",
    "print(linked_lst)\n",
    " \n",
    "# adding element at an arbitrary position\n",
    "linked_lst.insert(1, 'fourth')\n",
    " \n",
    "print(\"elements in the linked_list:\")\n",
    "print(linked_lst)\n",
    " \n",
    "# deleting the last element\n",
    "linked_lst.pop()\n",
    " \n",
    "print(\"elements in the linked_list:\")\n",
    "print(linked_lst)\n",
    " \n",
    "# removing a specific element\n",
    "linked_lst.remove('fourth')\n",
    " \n",
    "print(\"elements in the linked_list:\")\n",
    "print(linked_lst)"
   ]
  }
 ],
 "metadata": {
  "interpreter": {
   "hash": "292e10db6c55e702485e6f88c4d9b004f91598dfe10b635d4aed6659d5e24059"
  },
  "kernelspec": {
   "display_name": "Python 3.8.8 ('base')",
   "language": "python",
   "name": "python3"
  },
  "language_info": {
   "codemirror_mode": {
    "name": "ipython",
    "version": 3
   },
   "file_extension": ".py",
   "mimetype": "text/x-python",
   "name": "python",
   "nbconvert_exporter": "python",
   "pygments_lexer": "ipython3",
   "version": "3.8.8"
  },
  "orig_nbformat": 4
 },
 "nbformat": 4,
 "nbformat_minor": 2
}
